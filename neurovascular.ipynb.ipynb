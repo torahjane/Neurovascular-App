{
 "cells": [
  {
   "cell_type": "code",
   "execution_count": 1,
   "id": "fbfc73e4-a5d5-4e1e-a71a-407d6d0616fc",
   "metadata": {},
   "outputs": [
    {
     "name": "stdout",
     "output_type": "stream",
     "text": [
      " Dataset created: neurovascular_dataset.csv\n"
     ]
    }
   ],
   "source": [
    "import pandas as pd\n",
    "import random\n",
    "\n",
    "def generate_sample(stage):\n",
    "    if stage == 0:\n",
    "        hrv = random.randint(70, 100)\n",
    "        emg = 'normal'\n",
    "        posture = 'aligned'\n",
    "    elif stage == 1:\n",
    "        hrv = random.randint(50, 70)\n",
    "        emg = random.choice(['normal', 'overactive'])\n",
    "        posture = random.choice(['slouched', 'lean_left', 'lean_right'])\n",
    "    else:  # stage 2\n",
    "        hrv = random.randint(30, 50)\n",
    "        emg = random.choice(['underactive', 'overactive'])\n",
    "        posture = random.choice(['slouched', 'lean_left', 'lean_right'])\n",
    "\n",
    "    return {\n",
    "        'hrv': hrv,\n",
    "        'emg_level': emg,\n",
    "        'posture': posture,\n",
    "        'stage': stage\n",
    "    }\n",
    "\n",
    "data = []\n",
    "for _ in range(170):\n",
    "    data.append(generate_sample(0))\n",
    "for _ in range(170):\n",
    "    data.append(generate_sample(1))\n",
    "for _ in range(160):\n",
    "    data.append(generate_sample(2))\n",
    "\n",
    "df = pd.DataFrame(data)\n",
    "\n",
    "df.to_csv(\"neurovascular_dataset.csv\", index=False)\n",
    "\n",
    "print(\" Dataset created: neurovascular_dataset.csv\")\n"
   ]
  },
  {
   "cell_type": "code",
   "execution_count": 2,
   "id": "71dca1bf-28b2-47c9-b617-6364fe957215",
   "metadata": {},
   "outputs": [
    {
     "data": {
      "text/html": [
       "<div>\n",
       "<style scoped>\n",
       "    .dataframe tbody tr th:only-of-type {\n",
       "        vertical-align: middle;\n",
       "    }\n",
       "\n",
       "    .dataframe tbody tr th {\n",
       "        vertical-align: top;\n",
       "    }\n",
       "\n",
       "    .dataframe thead th {\n",
       "        text-align: right;\n",
       "    }\n",
       "</style>\n",
       "<table border=\"1\" class=\"dataframe\">\n",
       "  <thead>\n",
       "    <tr style=\"text-align: right;\">\n",
       "      <th></th>\n",
       "      <th>hrv</th>\n",
       "      <th>emg_level</th>\n",
       "      <th>posture</th>\n",
       "      <th>stage</th>\n",
       "    </tr>\n",
       "  </thead>\n",
       "  <tbody>\n",
       "    <tr>\n",
       "      <th>0</th>\n",
       "      <td>72</td>\n",
       "      <td>normal</td>\n",
       "      <td>aligned</td>\n",
       "      <td>0</td>\n",
       "    </tr>\n",
       "    <tr>\n",
       "      <th>1</th>\n",
       "      <td>93</td>\n",
       "      <td>normal</td>\n",
       "      <td>aligned</td>\n",
       "      <td>0</td>\n",
       "    </tr>\n",
       "    <tr>\n",
       "      <th>2</th>\n",
       "      <td>92</td>\n",
       "      <td>normal</td>\n",
       "      <td>aligned</td>\n",
       "      <td>0</td>\n",
       "    </tr>\n",
       "    <tr>\n",
       "      <th>3</th>\n",
       "      <td>81</td>\n",
       "      <td>normal</td>\n",
       "      <td>aligned</td>\n",
       "      <td>0</td>\n",
       "    </tr>\n",
       "    <tr>\n",
       "      <th>4</th>\n",
       "      <td>99</td>\n",
       "      <td>normal</td>\n",
       "      <td>aligned</td>\n",
       "      <td>0</td>\n",
       "    </tr>\n",
       "  </tbody>\n",
       "</table>\n",
       "</div>"
      ],
      "text/plain": [
       "   hrv emg_level  posture  stage\n",
       "0   72    normal  aligned      0\n",
       "1   93    normal  aligned      0\n",
       "2   92    normal  aligned      0\n",
       "3   81    normal  aligned      0\n",
       "4   99    normal  aligned      0"
      ]
     },
     "execution_count": 2,
     "metadata": {},
     "output_type": "execute_result"
    }
   ],
   "source": [
    "import pandas as pd\n",
    "\n",
    "df = pd.read_csv(\"neurovascular_dataset.csv\")\n",
    "df.head()\n",
    "\n",
    "\n"
   ]
  },
  {
   "cell_type": "code",
   "execution_count": 3,
   "id": "bc46ea85-0f58-4492-ab3c-ca960956c2aa",
   "metadata": {},
   "outputs": [
    {
     "name": "stdout",
     "output_type": "stream",
     "text": [
      "hrv          0\n",
      "emg_level    0\n",
      "posture      0\n",
      "stage        0\n",
      "dtype: int64\n",
      "hrv           int64\n",
      "emg_level    object\n",
      "posture      object\n",
      "stage         int64\n",
      "dtype: object\n",
      "281\n",
      "['normal' 'overactive' 'underactive']\n",
      "['aligned' 'slouched' 'lean_left' 'lean_right']\n",
      "30 100\n"
     ]
    }
   ],
   "source": [
    "import pandas as pd\n",
    "\n",
    "df = pd.read_csv(\"neurovascular_dataset.csv\")\n",
    "\n",
    "print(df.isnull().sum())\n",
    "print(df.dtypes)\n",
    "\n",
    "duplicates = df.duplicated().sum()\n",
    "print(duplicates)\n",
    "\n",
    "df = df.drop_duplicates()\n",
    "\n",
    "print(df['emg_level'].unique())\n",
    "print(df['posture'].unique())\n",
    "\n",
    "print(df['hrv'].min(), df['hrv'].max())\n"
   ]
  },
  {
   "cell_type": "code",
   "execution_count": 4,
   "id": "c5638c40-30b6-4210-a666-21dc02331f2a",
   "metadata": {},
   "outputs": [
    {
     "name": "stderr",
     "output_type": "stream",
     "text": [
      "C:\\Users\\torah\\AppData\\Local\\Temp\\ipykernel_18788\\290600624.py:4: FutureWarning: \n",
      "\n",
      "Passing `palette` without assigning `hue` is deprecated and will be removed in v0.14.0. Assign the `x` variable to `hue` and set `legend=False` for the same effect.\n",
      "\n",
      "  sns.countplot(x='stage', data=df, palette='cool')\n"
     ]
    },
    {
     "data": {
      "image/png": "[encoded data removed]",
      "text/plain": [
       "<Figure size 640x480 with 1 Axes>"
      ]
     },
     "metadata": {},
     "output_type": "display_data"
    },
    {
     "name": "stderr",
     "output_type": "stream",
     "text": [
      "C:\\Users\\torah\\AppData\\Local\\Temp\\ipykernel_18788\\290600624.py:8: FutureWarning: \n",
      "\n",
      "Passing `palette` without assigning `hue` is deprecated and will be removed in v0.14.0. Assign the `x` variable to `hue` and set `legend=False` for the same effect.\n",
      "\n",
      "  sns.boxplot(x='stage', y='hrv', data=df, palette='Set2')\n"
     ]
    },
    {
     "data": {
      "image/png": "[encoded data removed]",
      "text/plain": [
       "<Figure size 640x480 with 1 Axes>"
      ]
     },
     "metadata": {},
     "output_type": "display_data"
    },
    {
     "data": {
      "image/png": "[encoded data removed]",
      "text/plain": [
       "<Figure size 640x480 with 1 Axes>"
      ]
     },
     "metadata": {},
     "output_type": "display_data"
    },
    {
     "data": {
      "image/png": "[encoded data removed]",
      "text/plain": [
       "<Figure size 640x480 with 1 Axes>"
      ]
     },
     "metadata": {},
     "output_type": "display_data"
    }
   ],
   "source": [
    "import seaborn as sns\n",
    "import matplotlib.pyplot as plt\n",
    "\n",
    "sns.countplot(x='stage', data=df, palette='cool')\n",
    "plt.title(\"Stage Distribution\")\n",
    "plt.show()\n",
    "\n",
    "sns.boxplot(x='stage', y='hrv', data=df, palette='Set2')\n",
    "plt.title(\"HRV by Stage\")\n",
    "plt.show()\n",
    "\n",
    "sns.countplot(x='emg_level', hue='stage', data=df, palette='mako')\n",
    "plt.title(\"EMG vs Stage\")\n",
    "plt.show()\n",
    "\n",
    "sns.countplot(x='posture', hue='stage', data=df, palette='husl')\n",
    "plt.title(\"Posture vs Stage\")\n",
    "plt.xticks(rotation=15)\n",
    "plt.show()\n",
    "\n"
   ]
  },
  {
   "cell_type": "code",
   "execution_count": 5,
   "id": "635459a6-e430-4b11-bae7-007750aa19d6",
   "metadata": {},
   "outputs": [
    {
     "name": "stdout",
     "output_type": "stream",
     "text": [
      "Accuracy: 0.9772727272727273\n",
      "              precision    recall  f1-score   support\n",
      "\n",
      "           0       1.00      1.00      1.00         6\n",
      "           1       1.00      0.94      0.97        17\n",
      "           2       0.95      1.00      0.98        21\n",
      "\n",
      "    accuracy                           0.98        44\n",
      "   macro avg       0.98      0.98      0.98        44\n",
      "weighted avg       0.98      0.98      0.98        44\n",
      "\n"
     ]
    }
   ],
   "source": [
    "from sklearn.model_selection import train_test_split\n",
    "from sklearn.ensemble import RandomForestClassifier\n",
    "from sklearn.metrics import accuracy_score, classification_report\n",
    "\n",
    "df_encoded = pd.get_dummies(df, columns=['emg_level', 'posture'])\n",
    "\n",
    "X = df_encoded.drop('stage', axis=1)\n",
    "y = df_encoded['stage']\n",
    "\n",
    "X_train, X_test, y_train, y_test = train_test_split(X, y, test_size=0.2, random_state=42)\n",
    "\n",
    "model = RandomForestClassifier(n_estimators=100, random_state=42)\n",
    "model.fit(X_train, y_train)\n",
    "\n",
    "y_pred = model.predict(X_test)\n",
    "\n",
    "print(\"Accuracy:\", accuracy_score(y_test, y_pred))\n",
    "print(classification_report(y_test, y_pred))\n",
    "\n"
   ]
  },
  {
   "cell_type": "code",
   "execution_count": 6,
   "id": "102b2c1b-35cd-4946-a598-68121e11bbcf",
   "metadata": {},
   "outputs": [
    {
     "name": "stdout",
     "output_type": "stream",
     "text": [
      "Simulated Stage History: [2, 2, 1, 2, 1, 0, 2, 1, 2, 0]\n",
      "Recovery Progress Index (RPI): 88\n"
     ]
    }
   ],
   "source": [
    "import random\n",
    "\n",
    "# Simulate 10 predictions from your trained model (or use actual ones if available)\n",
    "simulated_predictions = [random.choice([0, 1, 2]) for _ in range(10)]\n",
    "print(\"Simulated Stage History:\", simulated_predictions)\n",
    "\n",
    "# Convert to Recovery Progress Index (0–100)\n",
    "# Higher score = more healing trend\n",
    "def calculate_rpi(predictions):\n",
    "    score = 0\n",
    "    for i in range(1, len(predictions)):\n",
    "        if predictions[i] < predictions[i-1]:  # stage got better\n",
    "            score += 10\n",
    "        elif predictions[i] == predictions[i-1]:  # no change\n",
    "            score += 3\n",
    "        else:  # got worse\n",
    "            score -= 5\n",
    "    score = max(0, min(100, score + 50))  # shift and cap\n",
    "    return score\n",
    "\n",
    "rpi = calculate_rpi(simulated_predictions)\n",
    "print(\"Recovery Progress Index (RPI):\", rpi)\n"
   ]
  },
  {
   "cell_type": "code",
   "execution_count": 7,
   "id": "59dbdcfd-9ff0-45d5-8952-b0fe90889230",
   "metadata": {},
   "outputs": [
    {
     "data": {
      "image/png": "[encoded data removed]",
      "text/plain": [
       "<Figure size 1000x500 with 1 Axes>"
      ]
     },
     "metadata": {},
     "output_type": "display_data"
    },
    {
     "data": {
      "image/png": "[encoded data removed]",
      "text/plain": [
       "<Figure size 500x400 with 1 Axes>"
      ]
     },
     "metadata": {},
     "output_type": "display_data"
    }
   ],
   "source": [
    "import matplotlib.pyplot as plt\n",
    "\n",
    "# Simulated prediction history (you can replace with real model predictions)\n",
    "predictions = [2, 2, 1, 2, 1, 0, 2, 1, 2, 0]\n",
    "\n",
    "# Calculate RPI (reuse same function)\n",
    "def calculate_rpi(predictions):\n",
    "    score = 0\n",
    "    for i in range(1, len(predictions)):\n",
    "        if predictions[i] < predictions[i-1]:\n",
    "            score += 10\n",
    "        elif predictions[i] == predictions[i-1]:\n",
    "            score += 3\n",
    "        else:\n",
    "            score -= 5\n",
    "    return max(0, min(100, score + 50))\n",
    "\n",
    "rpi = calculate_rpi(predictions)\n",
    "\n",
    "# Plot stage trend\n",
    "plt.figure(figsize=(10, 5))\n",
    "plt.plot(range(1, len(predictions)+1), predictions, marker='o', linestyle='-', color='royalblue')\n",
    "plt.title(\"Predicted Stage Over Time\", fontsize=14)\n",
    "plt.xlabel(\"Session\")\n",
    "plt.ylabel(\"Predicted Stage (0 = Normal)\")\n",
    "plt.ylim(-0.2, 2.2)\n",
    "plt.grid(True)\n",
    "plt.xticks(range(1, len(predictions)+1))\n",
    "plt.yticks([0, 1, 2])\n",
    "plt.tight_layout()\n",
    "plt.show()\n",
    "\n",
    "# Show RPI\n",
    "plt.figure(figsize=(5, 4))\n",
    "plt.bar(['Recovery Progress Index'], [rpi], color='seagreen')\n",
    "plt.ylim(0, 100)\n",
    "plt.title(\"RPI Score\", fontsize=14)\n",
    "plt.text(0, rpi + 3, f\"{rpi}/100\", ha='center', fontsize=12)\n",
    "plt.tight_layout()\n",
    "plt.show()\n",
    "\n"
   ]
  },
  {
   "cell_type": "code",
   "execution_count": 8,
   "id": "1fca4243-171a-4806-a4e8-f4d326fa2f62",
   "metadata": {},
   "outputs": [
    {
     "name": "stdout",
     "output_type": "stream",
     "text": [
      "signal_quality\n",
      "good    219\n",
      "Name: count, dtype: int64\n"
     ]
    }
   ],
   "source": [
    "# Signal Quality Checker\n",
    "def check_signal_quality(hrv, emg_level, posture):\n",
    "    if not (20 <= hrv <= 120):\n",
    "        return \"bad\"\n",
    "    if emg_level not in ['normal', 'overactive', 'underactive']:\n",
    "        return \"bad\"\n",
    "    if posture not in ['aligned', 'slouched', 'lean_left', 'lean_right']:\n",
    "        return \"bad\"\n",
    "    return \"good\"\n",
    "\n",
    "# Apply to your dataset\n",
    "df['signal_quality'] = df.apply(\n",
    "    lambda row: check_signal_quality(row['hrv'], row['emg_level'], row['posture']),\n",
    "    axis=1\n",
    ")\n",
    "\n",
    "# See how many sessions are good vs bad\n",
    "print(df['signal_quality'].value_counts())\n"
   ]
  },
  {
   "cell_type": "code",
   "execution_count": 11,
   "id": "a251f46d-108c-4123-917d-bfd2983b7df0",
   "metadata": {},
   "outputs": [],
   "source": [
    "df['signal_quality'] = df.apply(\n",
    "    lambda row: check_signal_quality(row['hrv'], row['emg_level'], row['posture']),\n",
    "    axis=1\n",
    ")\n"
   ]
  },
  {
   "cell_type": "code",
   "execution_count": 12,
   "id": "20f573ce-9193-4f81-b8a2-8d27924ee1de",
   "metadata": {},
   "outputs": [],
   "source": [
    "df_clean = df[df['signal_quality'] == 'good']\n"
   ]
  },
  {
   "cell_type": "code",
   "execution_count": 13,
   "id": "7f8ec4b3-6010-409d-9681-8cd2bf646237",
   "metadata": {},
   "outputs": [
    {
     "name": "stdout",
     "output_type": "stream",
     "text": [
      "Captured: 65 underactive aligned\n"
     ]
    }
   ],
   "source": [
    "import random\n",
    "\n",
    "def simulate_signal_capture():\n",
    "    hrv = random.randint(30, 100)\n",
    "    emg_level = random.choice(['normal', 'overactive', 'underactive'])\n",
    "    posture = random.choice(['aligned', 'slouched', 'lean_left', 'lean_right'])\n",
    "    return hrv, emg_level, posture\n",
    "\n",
    "# Capture signal for a session\n",
    "hrv, emg_level, posture = simulate_signal_capture()\n",
    "print(\"Captured:\", hrv, emg_level, posture)\n"
   ]
  },
  {
   "cell_type": "code",
   "execution_count": 14,
   "id": "80d01914-3e8f-41c3-a839-aa2c81f22871",
   "metadata": {},
   "outputs": [
    {
     "name": "stdout",
     "output_type": "stream",
     "text": [
      "\n",
      "✅ Session Captured Successfully\n",
      "   hrv   emg_level     posture  predicted_stage signal_quality  RPI\n",
      "0   31  overactive  lean_right                2           good   50\n"
     ]
    }
   ],
   "source": [
    "import pandas as pd\n",
    "import random\n",
    "\n",
    "# 1. Simulate signal\n",
    "def simulate_signal_capture():\n",
    "    hrv = random.randint(30, 100)\n",
    "    emg_level = random.choice(['normal', 'overactive', 'underactive'])\n",
    "    posture = random.choice(['aligned', 'slouched', 'lean_left', 'lean_right'])\n",
    "    return hrv, emg_level, posture\n",
    "\n",
    "# 2. Signal quality checker\n",
    "def check_signal_quality(hrv, emg_level, posture):\n",
    "    if not (20 <= hrv <= 120):\n",
    "        return \"bad\"\n",
    "    if emg_level not in ['normal', 'overactive', 'underactive']:\n",
    "        return \"bad\"\n",
    "    if posture not in ['aligned', 'slouched', 'lean_left', 'lean_right']:\n",
    "        return \"bad\"\n",
    "    return \"good\"\n",
    "\n",
    "# 3. RPI calculator\n",
    "def calculate_rpi(predictions):\n",
    "    score = 0\n",
    "    for i in range(1, len(predictions)):\n",
    "        if predictions[i] < predictions[i-1]:\n",
    "            score += 10\n",
    "        elif predictions[i] == predictions[i-1]:\n",
    "            score += 3\n",
    "        else:\n",
    "            score -= 5\n",
    "    return max(0, min(100, score + 50))\n",
    "\n",
    "# 4. Run a single session\n",
    "hrv, emg, posture = simulate_signal_capture()\n",
    "quality = check_signal_quality(hrv, emg, posture)\n",
    "\n",
    "# If signal is good, predict stage\n",
    "if quality == \"good\":\n",
    "    # One-hot encode emg and posture\n",
    "    input_df = pd.DataFrame([{\n",
    "        'hrv': hrv,\n",
    "        'emg_level': emg,\n",
    "        'posture': posture\n",
    "    }])\n",
    "    input_encoded = pd.get_dummies(input_df)\n",
    "    \n",
    "    # Match model's expected columns\n",
    "    for col in X.columns:\n",
    "        if col not in input_encoded.columns:\n",
    "            input_encoded[col] = 0\n",
    "    input_encoded = input_encoded[X.columns]\n",
    "    \n",
    "    predicted_stage = model.predict(input_encoded)[0]\n",
    "    \n",
    "    # Log session\n",
    "    session_log = pd.DataFrame([{\n",
    "        'hrv': hrv,\n",
    "        'emg_level': emg,\n",
    "        'posture': posture,\n",
    "        'predicted_stage': predicted_stage,\n",
    "        'signal_quality': quality\n",
    "    }])\n",
    "    \n",
    "    # Load previous if exists, else create\n",
    "    try:\n",
    "        full_log = pd.read_csv(\"session_log.csv\")\n",
    "        full_log = pd.concat([full_log, session_log], ignore_index=True)\n",
    "    except:\n",
    "        full_log = session_log\n",
    "\n",
    "    # Update RPI\n",
    "    rpi = calculate_rpi(full_log['predicted_stage'].tolist())\n",
    "    session_log['RPI'] = rpi\n",
    "\n",
    "    # Save updated log\n",
    "    full_log.to_csv(\"session_log.csv\", index=False)\n",
    "\n",
    "    # Show summary\n",
    "    print(\"\\n✅ Session Captured Successfully\")\n",
    "    print(session_log)\n",
    "\n",
    "else:\n",
    "    print(\"\\n ⚠️Signal rejected: Poor quality. Please retake session.\")\n",
    "    print(f\"Captured: HRV={hrv}, EMG={emg}, Posture={posture}\")\n"
   ]
  },
  {
   "cell_type": "code",
   "execution_count": 15,
   "id": "ab106280-5891-4205-b94b-f1b9edcca927",
   "metadata": {},
   "outputs": [
    {
     "name": "stdout",
     "output_type": "stream",
     "text": [
      "Feedback: ⚠️ High-risk signal detected. Sit upright, relax muscles. Initiating deep-breath prompt and posture correction.\n"
     ]
    }
   ],
   "source": [
    "def give_feedback(predicted_stage):\n",
    "    if predicted_stage == 2:\n",
    "        return \"⚠️ High-risk signal detected. Sit upright, relax muscles. Initiating deep-breath prompt and posture correction.\"\n",
    "    elif predicted_stage == 1:\n",
    "        return \"🟡 Moderate vascular load. Please adjust posture and stay relaxed.\"\n",
    "    elif predicted_stage == 0:\n",
    "        return \"✅ You're healing well. Keep posture aligned and continue light activity.\"\n",
    "    else:\n",
    "        return \"Unknown stage.\"\n",
    "\n",
    "feedback = give_feedback(predicted_stage)\n",
    "print(\"Feedback:\", feedback)\n"
   ]
  },
  {
   "cell_type": "code",
   "execution_count": 16,
   "id": "02273ec6-2952-493a-8c56-2ac0bd32ccb8",
   "metadata": {},
   "outputs": [
    {
     "name": "stdout",
     "output_type": "stream",
     "text": [
      "\n",
      "✅ Session Captured Successfully\n",
      "   hrv    emg_level  posture  predicted_stage  RPI  \\\n",
      "0   46  underactive  aligned                2   53   \n",
      "\n",
      "                                            feedback  \n",
      "0  ⚠️ High-risk: Sit upright, relax legs. Initiat...  \n"
     ]
    }
   ],
   "source": [
    "\n",
    "import pandas as pd\n",
    "import random\n",
    "\n",
    "# 1. Simulate signal\n",
    "def simulate_signal_capture():\n",
    "    hrv = random.randint(30, 100)\n",
    "    emg_level = random.choice(['normal', 'overactive', 'underactive'])\n",
    "    posture = random.choice(['aligned', 'slouched', 'lean_left', 'lean_right'])\n",
    "    return hrv, emg_level, posture\n",
    "\n",
    "# 2. Signal quality checker\n",
    "def check_signal_quality(hrv, emg_level, posture):\n",
    "    if not (20 <= hrv <= 120):\n",
    "        return \"bad\"\n",
    "    if emg_level not in ['normal', 'overactive', 'underactive']:\n",
    "        return \"bad\"\n",
    "    if posture not in ['aligned', 'slouched', 'lean_left', 'lean_right']:\n",
    "        return \"bad\"\n",
    "    return \"good\"\n",
    "\n",
    "# 3. RPI calculator\n",
    "def calculate_rpi(predictions):\n",
    "    score = 0\n",
    "    for i in range(1, len(predictions)):\n",
    "        if predictions[i] < predictions[i-1]:\n",
    "            score += 10\n",
    "        elif predictions[i] == predictions[i-1]:\n",
    "            score += 3\n",
    "        else:\n",
    "            score -= 5\n",
    "    return max(0, min(100, score + 50))\n",
    "\n",
    "# 4. Feedback logic\n",
    "def give_feedback(predicted_stage):\n",
    "    if predicted_stage == 2:\n",
    "        return \"⚠️ High-risk: Sit upright, relax legs. Initiating deep-breathing.\"\n",
    "    elif predicted_stage == 1:\n",
    "        return \"🟡 Moderate stage: Adjust posture and stay calm.\"\n",
    "    elif predicted_stage == 0:\n",
    "        return \"✅ You're healing. Great posture! Keep it up.\"\n",
    "    else:\n",
    "        return \"Unknown stage.\"\n",
    "\n",
    "# 5. Run a single session\n",
    "hrv, emg, posture = simulate_signal_capture()\n",
    "quality = check_signal_quality(hrv, emg, posture)\n",
    "\n",
    "if quality == \"good\":\n",
    "    input_df = pd.DataFrame([{\n",
    "        'hrv': hrv,\n",
    "        'emg_level': emg,\n",
    "        'posture': posture\n",
    "    }])\n",
    "    input_encoded = pd.get_dummies(input_df)\n",
    "    \n",
    "    for col in X.columns:\n",
    "        if col not in input_encoded.columns:\n",
    "            input_encoded[col] = 0\n",
    "    input_encoded = input_encoded[X.columns]\n",
    "    \n",
    "    predicted_stage = model.predict(input_encoded)[0]\n",
    "    feedback = give_feedback(predicted_stage)\n",
    "    \n",
    "    session_log = pd.DataFrame([{\n",
    "        'hrv': hrv,\n",
    "        'emg_level': emg,\n",
    "        'posture': posture,\n",
    "        'predicted_stage': predicted_stage,\n",
    "        'signal_quality': quality,\n",
    "        'feedback': feedback\n",
    "    }])\n",
    "    \n",
    "    try:\n",
    "        full_log = pd.read_csv(\"session_log.csv\")\n",
    "        full_log = pd.concat([full_log, session_log], ignore_index=True)\n",
    "    except:\n",
    "        full_log = session_log\n",
    "\n",
    "    rpi = calculate_rpi(full_log['predicted_stage'].tolist())\n",
    "    session_log['RPI'] = rpi\n",
    "    full_log.to_csv(\"session_log.csv\", index=False)\n",
    "\n",
    "    print(\"\\n✅ Session Captured Successfully\")\n",
    "    print(session_log[['hrv', 'emg_level', 'posture', 'predicted_stage', 'RPI', 'feedback']])\n",
    "\n",
    "else:\n",
    "    print(\"\\n⚠️ Signal rejected: Poor quality. Please retake session.\")\n",
    "    print(f\"Captured: HRV={hrv}, EMG={emg}, Posture={posture}\")\n"
   ]
  },
  {
   "cell_type": "code",
   "execution_count": 17,
   "id": "82bff148-844f-42c3-b9f6-0fac3f6d0474",
   "metadata": {},
   "outputs": [
    {
     "data": {
      "image/png": "[encoded data removed]",
      "text/plain": [
       "<Figure size 1000x400 with 1 Axes>"
      ]
     },
     "metadata": {},
     "output_type": "display_data"
    },
    {
     "data": {
      "image/png": "[encoded data removed]",
      "text/plain": [
       "<Figure size 1000x400 with 1 Axes>"
      ]
     },
     "metadata": {},
     "output_type": "display_data"
    }
   ],
   "source": [
    "import pandas as pd\n",
    "import matplotlib.pyplot as plt\n",
    "\n",
    "# Load session log\n",
    "df = pd.read_csv(\"session_log.csv\")\n",
    "\n",
    "# Plot 1: Predicted Stage over Sessions\n",
    "plt.figure(figsize=(10, 4))\n",
    "plt.plot(df.index + 1, df['predicted_stage'], marker='o', linestyle='-', color='royalblue')\n",
    "plt.title(\"Predicted Stage Over Sessions\", fontsize=14)\n",
    "plt.xlabel(\"Session Number\")\n",
    "plt.ylabel(\"Predicted Stage (0 = Normal)\")\n",
    "plt.ylim(-0.2, 2.2)\n",
    "plt.grid(True)\n",
    "plt.xticks(range(1, len(df)+1))\n",
    "plt.yticks([0, 1, 2])\n",
    "plt.tight_layout()\n",
    "plt.show()\n",
    "\n",
    "# Plot 2: RPI Progress\n",
    "plt.figure(figsize=(10, 4))\n",
    "plt.plot(df.index + 1, df['RPI'], marker='s', linestyle='--', color='seagreen')\n",
    "plt.title(\"Recovery Progress Index (RPI) Over Sessions\", fontsize=14)\n",
    "plt.xlabel(\"Session Number\")\n",
    "plt.ylabel(\"RPI Score\")\n",
    "plt.ylim(0, 100)\n",
    "plt.grid(True)\n",
    "plt.xticks(range(1, len(df)+1))\n",
    "plt.tight_layout()\n",
    "plt.show()\n"
   ]
  },
  {
   "cell_type": "code",
   "execution_count": 18,
   "id": "f0dcd0f3-2531-4fe1-956f-ded892b516e7",
   "metadata": {},
   "outputs": [
    {
     "name": "stdout",
     "output_type": "stream",
     "text": [
      "✅ Doctor summary exported as 'doctor_summary.csv'\n"
     ]
    }
   ],
   "source": [
    "import pandas as pd\n",
    "\n",
    "# Load your log\n",
    "df = pd.read_csv(\"session_log.csv\")\n",
    "\n",
    "# Add session number column\n",
    "df['Session'] = df.index + 1\n",
    "\n",
    "# Reorder + rename columns\n",
    "summary_df = df[['Session', 'hrv', 'emg_level', 'posture', 'predicted_stage', 'RPI', 'feedback']]\n",
    "summary_df.columns = ['Session', 'HRV', 'EMG', 'Posture', 'Stage', 'RPI', 'Feedback']\n",
    "\n",
    "# Export to CSV\n",
    "summary_df.to_csv(\"doctor_summary.csv\", index=False)\n",
    "\n",
    "print(\"✅ Doctor summary exported as 'doctor_summary.csv'\")\n"
   ]
  },
  {
   "cell_type": "code",
   "execution_count": 19,
   "id": "a8e754dc-4136-43e7-bb27-2e17e0d4be9c",
   "metadata": {},
   "outputs": [
    {
     "name": "stdout",
     "output_type": "stream",
     "text": [
      "✅ 50 Patient Sessions Simulated and Logged as 'simulated_patient_log.csv'\n"
     ]
    }
   ],
   "source": [
    "import pandas as pd\n",
    "import random\n",
    "\n",
    "# Simulate signal\n",
    "def simulate_signal_capture():\n",
    "    hrv = random.randint(25, 100)\n",
    "    emg_level = random.choice(['normal', 'overactive', 'underactive'])\n",
    "    posture = random.choice(['aligned', 'slouched', 'lean_left', 'lean_right'])\n",
    "    return hrv, emg_level, posture\n",
    "\n",
    "# Signal quality check\n",
    "def check_signal_quality(hrv, emg_level, posture):\n",
    "    if not (20 <= hrv <= 120):\n",
    "        return \"bad\"\n",
    "    if emg_level not in ['normal', 'overactive', 'underactive']:\n",
    "        return \"bad\"\n",
    "    if posture not in ['aligned', 'slouched', 'lean_left', 'lean_right']:\n",
    "        return \"bad\"\n",
    "    return \"good\"\n",
    "\n",
    "# Feedback generator\n",
    "def give_feedback(predicted_stage):\n",
    "    if predicted_stage == 2:\n",
    "        return \"⚠️ High-risk: Sit upright, relax legs. Initiating deep-breathing.\"\n",
    "    elif predicted_stage == 1:\n",
    "        return \"🟡 Moderate stage: Adjust posture and stay calm.\"\n",
    "    elif predicted_stage == 0:\n",
    "        return \"✅ You're healing. Great posture! Keep it up.\"\n",
    "    else:\n",
    "        return \"Unknown stage.\"\n",
    "\n",
    "# RPI calculator\n",
    "def calculate_rpi(predictions):\n",
    "    score = 0\n",
    "    for i in range(1, len(predictions)):\n",
    "        if predictions[i] < predictions[i - 1]:\n",
    "            score += 10\n",
    "        elif predictions[i] == predictions[i - 1]:\n",
    "            score += 3\n",
    "        else:\n",
    "            score -= 5\n",
    "    return max(0, min(100, score + 50))\n",
    "\n",
    "# Run 50 sessions\n",
    "simulated_sessions = []\n",
    "predicted_list = []\n",
    "\n",
    "while len(simulated_sessions) < 50:\n",
    "    hrv, emg, posture = simulate_signal_capture()\n",
    "    quality = check_signal_quality(hrv, emg, posture)\n",
    "\n",
    "    if quality == \"bad\":\n",
    "        continue  # Skip this round\n",
    "\n",
    "    # Encode input\n",
    "    input_df = pd.DataFrame([{\n",
    "        'hrv': hrv,\n",
    "        'emg_level': emg,\n",
    "        'posture': posture\n",
    "    }])\n",
    "    input_encoded = pd.get_dummies(input_df)\n",
    "\n",
    "    for col in X.columns:\n",
    "        if col not in input_encoded.columns:\n",
    "            input_encoded[col] = 0\n",
    "    input_encoded = input_encoded[X.columns]\n",
    "\n",
    "    # Predict stage\n",
    "    predicted_stage = model.predict(input_encoded)[0]\n",
    "    predicted_list.append(predicted_stage)\n",
    "    rpi = calculate_rpi(predicted_list)\n",
    "    feedback = give_feedback(predicted_stage)\n",
    "\n",
    "    session = {\n",
    "        'Session': len(simulated_sessions) + 1,\n",
    "        'HRV': hrv,\n",
    "        'EMG': emg,\n",
    "        'Posture': posture,\n",
    "        'Stage': predicted_stage,\n",
    "        'Signal Quality': quality,\n",
    "        'RPI': rpi,\n",
    "        'Feedback': feedback\n",
    "    }\n",
    "    simulated_sessions.append(session)\n",
    "\n",
    "# Save to CSV\n",
    "df_sim = pd.DataFrame(simulated_sessions)\n",
    "df_sim.to_csv(\"simulated_patient_log.csv\", index=False)\n",
    "\n",
    "print(\"✅ 50 Patient Sessions Simulated and Logged as 'simulated_patient_log.csv'\")\n"
   ]
  },
  {
   "cell_type": "code",
   "execution_count": 20,
   "id": "cf55bd2f-30a0-46eb-b99c-a9cc37a64883",
   "metadata": {},
   "outputs": [
    {
     "name": "stdout",
     "output_type": "stream",
     "text": [
      "Collecting reportlab\n",
      "  Downloading reportlab-4.4.2-py3-none-any.whl.metadata (1.8 kB)\n",
      "Requirement already satisfied: pillow>=9.0.0 in c:\\users\\torah\\anaconda3\\envs\\myenv\\lib\\site-packages (from reportlab) (11.2.1)\n",
      "Requirement already satisfied: charset-normalizer in c:\\users\\torah\\anaconda3\\envs\\myenv\\lib\\site-packages (from reportlab) (3.3.2)\n",
      "Downloading reportlab-4.4.2-py3-none-any.whl (2.0 MB)\n",
      "   ---------------------------------------- 0.0/2.0 MB ? eta -:--:--\n",
      "   ---------------- ----------------------- 0.8/2.0 MB 4.8 MB/s eta 0:00:01\n",
      "   ------------------------------------- -- 1.8/2.0 MB 5.6 MB/s eta 0:00:01\n",
      "   ---------------------------------------- 2.0/2.0 MB 5.2 MB/s eta 0:00:00\n",
      "Installing collected packages: reportlab\n",
      "Successfully installed reportlab-4.4.2\n",
      "Note: you may need to restart the kernel to use updated packages.\n"
     ]
    }
   ],
   "source": [
    "pip install reportlab\n"
   ]
  },
  {
   "cell_type": "code",
   "execution_count": 21,
   "id": "ffba5c00-b57c-4c3e-b04c-2f7844642de2",
   "metadata": {},
   "outputs": [
    {
     "name": "stdout",
     "output_type": "stream",
     "text": [
      "✅ Doctor PDF Report Generated: 'neurovascular_doctor_report.pdf'\n"
     ]
    }
   ],
   "source": [
    "from reportlab.lib.pagesizes import A4\n",
    "from reportlab.lib import colors\n",
    "from reportlab.lib.styles import getSampleStyleSheet\n",
    "from reportlab.platypus import SimpleDocTemplate, Table, TableStyle, Paragraph, Spacer\n",
    "import pandas as pd\n",
    "\n",
    "# Load the simulated patient data\n",
    "df = pd.read_csv(\"simulated_patient_log.csv\")\n",
    "\n",
    "# Convert all data to string for PDF\n",
    "df = df.astype(str)\n",
    "\n",
    "# Create the PDF document\n",
    "doc = SimpleDocTemplate(\"neurovascular_doctor_report.pdf\", pagesize=A4)\n",
    "elements = []\n",
    "\n",
    "# Title\n",
    "styles = getSampleStyleSheet()\n",
    "title = Paragraph(\"Neurovascular Patient Session Summary\", styles['Title'])\n",
    "elements.append(title)\n",
    "elements.append(Spacer(1, 12))\n",
    "\n",
    "# Table data (headers + rows)\n",
    "data = [list(df.columns)] + df.values.tolist()\n",
    "\n",
    "# Create table\n",
    "table = Table(data, repeatRows=1)\n",
    "\n",
    "# Style it\n",
    "table.setStyle(TableStyle([\n",
    "    ('BACKGROUND', (0,0), (-1,0), colors.darkblue),\n",
    "    ('TEXTCOLOR', (0,0), (-1,0), colors.whitesmoke),\n",
    "    ('ALIGN',(0,0),(-1,-1),'CENTER'),\n",
    "    ('FONTNAME', (0,0), (-1,0), 'Helvetica-Bold'),\n",
    "    ('FONTSIZE', (0,0), (-1,0), 10),\n",
    "    ('BOTTOMPADDING', (0,0), (-1,0), 8),\n",
    "    ('BACKGROUND',(0,1),(-1,-1),colors.beige),\n",
    "    ('GRID', (0,0), (-1,-1), 0.5, colors.grey),\n",
    "]))\n",
    "\n",
    "elements.append(table)\n",
    "\n",
    "# Build PDF\n",
    "doc.build(elements)\n",
    "\n",
    "print(\"✅ Doctor PDF Report Generated: 'neurovascular_doctor_report.pdf'\")\n"
   ]
  },
  {
   "cell_type": "code",
   "execution_count": 22,
   "id": "73e2bbb6-ac1a-405c-80b6-a029c20b6a92",
   "metadata": {},
   "outputs": [
    {
     "data": {
      "text/plain": [
       "['neurovas.pkl']"
      ]
     },
     "execution_count": 22,
     "metadata": {},
     "output_type": "execute_result"
    }
   ],
   "source": [
    "import joblib\n",
    "\n",
    "# Save your trained model\n",
    "joblib.dump(model, \"neurovas.pkl\")\n"
   ]
  },
  {
   "cell_type": "code",
   "execution_count": 23,
   "id": "808b930e-dc27-4b05-9922-a902c4268de8",
   "metadata": {},
   "outputs": [],
   "source": [
    "pd.DataFrame(X.columns).to_csv(\"X_columns.csv\", index=False)\n"
   ]
  },
  {
   "cell_type": "code",
   "execution_count": null,
   "id": "67cc14ec-8ebc-4a53-8d8e-5dcd1c228b88",
   "metadata": {},
   "outputs": [],
   "source": []
  }
 ],
 "metadata": {
  "kernelspec": {
   "display_name": "Python 3 (myenv)",
   "language": "python",
   "name": "myenv"
  },
  "language_info": {
   "codemirror_mode": {
    "name": "ipython",
    "version": 3
   },
   "file_extension": ".py",
   "mimetype": "text/x-python",
   "name": "python",
   "nbconvert_exporter": "python",
   "pygments_lexer": "ipython3",
   "version": "3.9.21"
  }
 },
 "nbformat": 4,
 "nbformat_minor": 5
}
